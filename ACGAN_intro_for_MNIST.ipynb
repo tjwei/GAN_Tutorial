{
 "cells": [
  {
   "cell_type": "markdown",
   "metadata": {
    "colab_type": "text",
    "id": "view-in-github"
   },
   "source": [
    "<a href=\"https://colab.research.google.com/github/tjwei/GAN_Tutorial/blob/master/ACGAN_intro_for_MNIST.ipynb\" target=\"_parent\"><img src=\"https://colab.research.google.com/assets/colab-badge.svg\" alt=\"Open In Colab\"/></a>"
   ]
  },
  {
   "cell_type": "code",
   "execution_count": 1,
   "metadata": {},
   "outputs": [],
   "source": [
    "# for tf 2.0\n",
    "#!pip install -U tensorflow-gpu"
   ]
  },
  {
   "cell_type": "code",
   "execution_count": 2,
   "metadata": {
    "colab": {},
    "colab_type": "code",
    "id": "ckOHCuiArv5c"
   },
   "outputs": [
    {
     "data": {
      "text/plain": [
       "'2.0.0'"
      ]
     },
     "execution_count": 2,
     "metadata": {},
     "output_type": "execute_result"
    }
   ],
   "source": [
    "import tensorflow as tf\n",
    "\n",
    "import matplotlib.pyplot as plt\n",
    "import numpy as np\n",
    "import os\n",
    "import PIL\n",
    "import time\n",
    "from skimage.io import imshow\n",
    "\n",
    "from IPython.display import display\n",
    "tf.__version__"
   ]
  },
  {
   "cell_type": "code",
   "execution_count": 3,
   "metadata": {
    "colab": {},
    "colab_type": "code",
    "id": "1V2PJHrDrxf2"
   },
   "outputs": [],
   "source": [
    "(train_images, train_labels), (test_images, test_labels) = tf.keras.datasets.mnist.load_data()\n"
   ]
  },
  {
   "cell_type": "code",
   "execution_count": 4,
   "metadata": {
    "colab": {
     "base_uri": "https://localhost:8080/",
     "height": 34
    },
    "colab_type": "code",
    "id": "L0iNo21Arykj",
    "outputId": "05458ce2-9340-4569-f2f6-2712f80e1b1c"
   },
   "outputs": [
    {
     "data": {
      "text/plain": [
       "(dtype('uint8'), (60000, 28, 28))"
      ]
     },
     "execution_count": 4,
     "metadata": {},
     "output_type": "execute_result"
    }
   ],
   "source": [
    "train_images.dtype, train_images.shape"
   ]
  },
  {
   "cell_type": "code",
   "execution_count": 5,
   "metadata": {
    "colab": {
     "base_uri": "https://localhost:8080/",
     "height": 314
    },
    "colab_type": "code",
    "id": "uAcCsSinus1d",
    "outputId": "6c5b8499-8d08-415c-c2e3-36520c5c4a30"
   },
   "outputs": [
    {
     "data": {
      "text/plain": [
       "<matplotlib.image.AxesImage at 0x7f91d40f8198>"
      ]
     },
     "execution_count": 5,
     "metadata": {},
     "output_type": "execute_result"
    },
    {
     "data": {
      "image/png": "[encoded data removed]",
      "text/plain": [
       "<Figure size 432x288 with 1 Axes>"
      ]
     },
     "metadata": {
      "needs_background": "light"
     },
     "output_type": "display_data"
    }
   ],
   "source": [
    "imshow(train_images[0])"
   ]
  },
  {
   "cell_type": "code",
   "execution_count": 6,
   "metadata": {
    "colab": {},
    "colab_type": "code",
    "id": "uSDHJmuwtxT4"
   },
   "outputs": [],
   "source": [
    "def img_to_float(img):\n",
    "    return (np.float32(img)[..., None]-127.5)/127.5\n",
    "def img_to_uint8(img):\n",
    "    return np.uint8(img*127.5+128).clip(0, 255)[...,0]"
   ]
  },
  {
   "cell_type": "code",
   "execution_count": 7,
   "metadata": {
    "colab": {
     "base_uri": "https://localhost:8080/",
     "height": 314
    },
    "colab_type": "code",
    "id": "9yGVvMP9vUn0",
    "outputId": "e930d29b-1f49-471f-bce8-353c729eddca"
   },
   "outputs": [
    {
     "data": {
      "text/plain": [
       "<matplotlib.image.AxesImage at 0x7f91c07ef0f0>"
      ]
     },
     "execution_count": 7,
     "metadata": {},
     "output_type": "execute_result"
    },
    {
     "data": {
      "image/png": "[encoded data removed]",
      "text/plain": [
       "<Figure size 432x288 with 1 Axes>"
      ]
     },
     "metadata": {
      "needs_background": "light"
     },
     "output_type": "display_data"
    }
   ],
   "source": [
    "train_img_f32 = img_to_float(train_images)\n",
    "imshow(img_to_uint8(train_img_f32[0]))"
   ]
  },
  {
   "cell_type": "code",
   "execution_count": 8,
   "metadata": {
    "colab": {},
    "colab_type": "code",
    "id": "oSrY5b6ev0kO"
   },
   "outputs": [],
   "source": [
    "BUFFER_SIZE = train_img_f32.shape[0]\n",
    "BATCH_SIZE = 32\n",
    "train_dataset_y = tf.data.Dataset.from_tensor_slices(train_labels).map(lambda y: tf.one_hot(y, 10))\n",
    "train_dataset_x = tf.data.Dataset.from_tensor_slices(train_img_f32)\n",
    "train_dataset = tf.data.Dataset.zip((train_dataset_x, train_dataset_y)).shuffle(BUFFER_SIZE).batch(BATCH_SIZE)"
   ]
  },
  {
   "cell_type": "code",
   "execution_count": 9,
   "metadata": {
    "colab": {},
    "colab_type": "code",
    "id": "ZaJFsMs2v1R1"
   },
   "outputs": [],
   "source": [
    "from tensorflow.keras.layers import Dense, BatchNormalization, LeakyReLU, Reshape, Conv2DTranspose, Input, concatenate\n",
    "from tensorflow.keras import Model\n",
    "latent_dim = 100\n",
    "\n",
    "_0 = Input((latent_dim,))\n",
    "_1 = Input((10,))\n",
    "_ = concatenate([_0, _1])\n",
    "_ = Dense(7*7*256, use_bias=False, input_shape=(latent_dim,))(_)\n",
    "_ = BatchNormalization()(_)\n",
    "_ = LeakyReLU()(_)\n",
    "_ = Reshape((7, 7, 256))(_)\n",
    "_ = Conv2DTranspose(128, (5, 5), strides=(1, 1), padding='same', use_bias=False)(_)\n",
    "_ = BatchNormalization()(_)\n",
    "_ = LeakyReLU()(_)\n",
    "_ = Conv2DTranspose(64, (5, 5), strides=(2, 2), padding='same', use_bias=False)(_)\n",
    "_ = BatchNormalization()(_)\n",
    "_ = LeakyReLU()(_)\n",
    "_ = Conv2DTranspose(1, (5, 5), strides=(2, 2), padding='same', use_bias=False, activation='tanh')(_)\n",
    "generator = Model(inputs=[_0,_1], outputs=_)"
   ]
  },
  {
   "cell_type": "code",
   "execution_count": 10,
   "metadata": {
    "colab": {},
    "colab_type": "code",
    "id": "kqdl08rxvWiS"
   },
   "outputs": [],
   "source": [
    "from tensorflow.keras.layers import Conv2D, Dropout, Flatten\n",
    "_i = Input((28,28, 1))\n",
    "_ = Conv2D(64, (5, 5), strides=(2, 2), padding='same')(_i)\n",
    "_ = LeakyReLU()(_)\n",
    "_ = Dropout(0.3)(_)\n",
    "_ = Conv2D(128, (5, 5), strides=(2, 2), padding='same')(_)\n",
    "_ = LeakyReLU()(_)\n",
    "_ = Dropout(0.3)(_)\n",
    "_ = Flatten()(_)\n",
    "_0 = Dense(1)(_)\n",
    "_1 = Dense(10)(_)\n",
    "\n",
    "discriminator = Model(inputs=_i, outputs=[_0, _1])"
   ]
  },
  {
   "cell_type": "code",
   "execution_count": 11,
   "metadata": {
    "colab": {},
    "colab_type": "code",
    "id": "nd8zcnhjzKWq"
   },
   "outputs": [],
   "source": [
    "BCE = tf.keras.losses.BinaryCrossentropy(from_logits=True)\n",
    "CCE = tf.keras.losses.CategoricalCrossentropy(from_logits=True)\n",
    "def generator_loss(generated_output, labels):\n",
    "    out_d, out_c = generated_output\n",
    "    loss_d = BCE(tf.ones_like(out_d), out_d)\n",
    "    loss_c = CCE(labels, out_c)\n",
    "    return loss_d+loss_c"
   ]
  },
  {
   "cell_type": "code",
   "execution_count": 12,
   "metadata": {
    "colab": {},
    "colab_type": "code",
    "id": "fgWHoC6FzbUA"
   },
   "outputs": [],
   "source": [
    "def discriminator_loss(real_output, generated_output, labels):\n",
    "    # [1,1,...,1] with real output since it is true and we want our generated examples to look like it\n",
    "    real_out_d, real_out_c = real_output\n",
    "    real_loss_d = BCE(tf.ones_like(real_out_d), real_out_d)\n",
    "    real_loss_c = CCE(labels, real_out_c)\n",
    "    real_loss = real_loss_d + real_loss_c\n",
    "\n",
    "    # [0,0,...,0] with generated images since they are fake\n",
    "    generated_out_d, generated_out_c = generated_output\n",
    "    generated_loss = BCE(tf.zeros_like(generated_out_d), generated_out_d)\n",
    "    total_loss = real_loss + generated_loss\n",
    "\n",
    "    return total_loss"
   ]
  },
  {
   "cell_type": "code",
   "execution_count": 13,
   "metadata": {
    "colab": {},
    "colab_type": "code",
    "id": "KCYwQqxgz8o_"
   },
   "outputs": [],
   "source": [
    "generator_optimizer = tf.keras.optimizers.Adam(1e-4)\n",
    "discriminator_optimizer = tf.keras.optimizers.Adam(1e-4)"
   ]
  },
  {
   "cell_type": "code",
   "execution_count": 14,
   "metadata": {
    "colab": {},
    "colab_type": "code",
    "id": "Rb2-KU6K1J0I"
   },
   "outputs": [],
   "source": [
    "EPOCHS = 50\n",
    "num_examples_to_generate = 20\n",
    "\n",
    "# We'll re-use this random vector used to seed the generator so\n",
    "# it will be easier to see the improvement over time.\n",
    "random_vector_for_generation = tf.random.normal([num_examples_to_generate,\n",
    "                                                 latent_dim])\n",
    "condition_vector_generation = tf.one_hot(list(range(10))+list(range(10)), 10)"
   ]
  },
  {
   "cell_type": "code",
   "execution_count": 15,
   "metadata": {
    "colab": {},
    "colab_type": "code",
    "id": "Xnu88uGR1etc"
   },
   "outputs": [],
   "source": [
    "@tf.function\n",
    "def train_step(images, labels):\n",
    "    # generating noise from a normal distribution\n",
    "    noise = tf.random.normal([BATCH_SIZE, latent_dim])\n",
    "      \n",
    "    with tf.GradientTape() as gen_tape, tf.GradientTape() as disc_tape:\n",
    "        generated_images= generator([noise, labels], training=True)\n",
    "        real_output = discriminator(images, training=True)\n",
    "        generated_output = discriminator(generated_images, training=True)\n",
    "         \n",
    "        gen_loss = generator_loss(generated_output, labels)\n",
    "        disc_loss = discriminator_loss(real_output, generated_output, labels)\n",
    "        \n",
    "    gradients_of_generator = gen_tape.gradient(gen_loss, generator.trainable_variables)\n",
    "    gradients_of_discriminator = disc_tape.gradient(disc_loss, discriminator.trainable_variables)\n",
    "      \n",
    "    generator_optimizer.apply_gradients(zip(gradients_of_generator, generator.trainable_variables))\n",
    "    discriminator_optimizer.apply_gradients(zip(gradients_of_discriminator, discriminator.trainable_variables))"
   ]
  },
  {
   "cell_type": "code",
   "execution_count": 16,
   "metadata": {
    "colab": {
     "base_uri": "https://localhost:8080/",
     "height": 874
    },
    "colab_type": "code",
    "id": "1DPQkOVx2yon",
    "outputId": "1e45a090-fff8-4f8c-dd0d-af96f55f7db3",
    "scrolled": true
   },
   "outputs": [
    {
     "name": "stdout",
     "output_type": "stream",
     "text": [
      "0 16.534207582473755\n"
     ]
    },
    {
     "data": {
      "image/png": "[encoded data removed]",
      "text/plain": [
       "<PIL.Image.Image image mode=L size=560x28 at 0x7F90F0461CC0>"
      ]
     },
     "metadata": {},
     "output_type": "display_data"
    },
    {
     "name": "stdout",
     "output_type": "stream",
     "text": [
      "1 11.346590757369995\n"
     ]
    },
    {
     "data": {
      "image/png": "[encoded data removed]",
      "text/plain": [
       "<PIL.Image.Image image mode=L size=560x28 at 0x7F92B2C83F28>"
      ]
     },
     "metadata": {},
     "output_type": "display_data"
    },
    {
     "name": "stdout",
     "output_type": "stream",
     "text": [
      "2 11.369076013565063\n"
     ]
    },
    {
     "data": {
      "image/png": "[encoded data removed]",
      "text/plain": [
       "<PIL.Image.Image image mode=L size=560x28 at 0x7F92B2C83B00>"
      ]
     },
     "metadata": {},
     "output_type": "display_data"
    },
    {
     "name": "stdout",
     "output_type": "stream",
     "text": [
      "3 11.440730094909668\n"
     ]
    },
    {
     "data": {
      "image/png": "[encoded data removed]",
      "text/plain": [
       "<PIL.Image.Image image mode=L size=560x28 at 0x7F92B2C836D8>"
      ]
     },
     "metadata": {},
     "output_type": "display_data"
    },
    {
     "name": "stdout",
     "output_type": "stream",
     "text": [
      "4 11.184944868087769\n"
     ]
    },
    {
     "data": {
      "image/png": "[encoded data removed]",
      "text/plain": [
       "<PIL.Image.Image image mode=L size=560x28 at 0x7F92B2C83F98>"
      ]
     },
     "metadata": {},
     "output_type": "display_data"
    },
    {
     "name": "stdout",
     "output_type": "stream",
     "text": [
      "5 11.39745545387268\n"
     ]
    },
    {
     "data": {
      "image/png": "[encoded data removed]",
      "text/plain": [
       "<PIL.Image.Image image mode=L size=560x28 at 0x7F92B2C83F28>"
      ]
     },
     "metadata": {},
     "output_type": "display_data"
    },
    {
     "name": "stdout",
     "output_type": "stream",
     "text": [
      "6 11.733301401138306\n"
     ]
    },
    {
     "data": {
      "image/png": "[encoded data removed]",
      "text/plain": [
       "<PIL.Image.Image image mode=L size=560x28 at 0x7F92B2C83B38>"
      ]
     },
     "metadata": {},
     "output_type": "display_data"
    },
    {
     "name": "stdout",
     "output_type": "stream",
     "text": [
      "7 11.54923415184021\n"
     ]
    },
    {
     "data": {
      "image/png": "[encoded data removed]",
      "text/plain": [
       "<PIL.Image.Image image mode=L size=560x28 at 0x7F92B2C83FD0>"
      ]
     },
     "metadata": {},
     "output_type": "display_data"
    },
    {
     "name": "stdout",
     "output_type": "stream",
     "text": [
      "8 11.390678405761719\n"
     ]
    },
    {
     "data": {
      "image/png": "[encoded data removed]",
      "text/plain": [
       "<PIL.Image.Image image mode=L size=560x28 at 0x7F92B2C836D8>"
      ]
     },
     "metadata": {},
     "output_type": "display_data"
    },
    {
     "name": "stdout",
     "output_type": "stream",
     "text": [
      "9 11.645015954971313\n"
     ]
    },
    {
     "data": {
      "image/png": "[encoded data removed]",
      "text/plain": [
       "<PIL.Image.Image image mode=L size=560x28 at 0x7F92B2C83F28>"
      ]
     },
     "metadata": {},
     "output_type": "display_data"
    },
    {
     "name": "stdout",
     "output_type": "stream",
     "text": [
      "10 11.33017086982727\n"
     ]
    },
    {
     "data": {
      "image/png": "[encoded data removed]",
      "text/plain": [
       "<PIL.Image.Image image mode=L size=560x28 at 0x7F92B2C83B38>"
      ]
     },
     "metadata": {},
     "output_type": "display_data"
    },
    {
     "name": "stdout",
     "output_type": "stream",
     "text": [
      "11 11.41501784324646\n"
     ]
    },
    {
     "data": {
      "image/png": "[encoded data removed]",
      "text/plain": [
       "<PIL.Image.Image image mode=L size=560x28 at 0x7F92B2C83F98>"
      ]
     },
     "metadata": {},
     "output_type": "display_data"
    },
    {
     "name": "stdout",
     "output_type": "stream",
     "text": [
      "12 11.527951955795288\n"
     ]
    },
    {
     "data": {
      "image/png": "[encoded data removed]",
      "text/plain": [
       "<PIL.Image.Image image mode=L size=560x28 at 0x7F92B2C83FD0>"
      ]
     },
     "metadata": {},
     "output_type": "display_data"
    },
    {
     "name": "stdout",
     "output_type": "stream",
     "text": [
      "13 11.528112411499023\n"
     ]
    },
    {
     "data": {
      "image/png": "[encoded data removed]",
      "text/plain": [
       "<PIL.Image.Image image mode=L size=560x28 at 0x7F92B2C83F60>"
      ]
     },
     "metadata": {},
     "output_type": "display_data"
    },
    {
     "name": "stdout",
     "output_type": "stream",
     "text": [
      "14 11.430882453918457\n"
     ]
    },
    {
     "data": {
      "image/png": "[encoded data removed]",
      "text/plain": [
       "<PIL.Image.Image image mode=L size=560x28 at 0x7F92B2C836D8>"
      ]
     },
     "metadata": {},
     "output_type": "display_data"
    }
   ],
   "source": [
    "for epoch in range(15):\n",
    "    start_time = time.time()\n",
    "    for images, labels in train_dataset:\n",
    "        train_step(images, labels)\n",
    "    fake = generator([random_vector_for_generation, condition_vector_generation], training=False)\n",
    "    fake_concat = np.transpose(img_to_uint8(fake), [1,0,2]).reshape((28,-1))\n",
    "    print(epoch, time.time()-start_time)\n",
    "    display(PIL.Image.fromarray(fake_concat))\n",
    "  \n",
    "  "
   ]
  }
 ],
 "metadata": {
  "accelerator": "GPU",
  "colab": {
   "collapsed_sections": [],
   "include_colab_link": true,
   "name": "ACGAN-intro for MNIST",
   "provenance": [],
   "version": "0.3.2"
  },
  "kernelspec": {
   "display_name": "Python 3",
   "language": "python",
   "name": "python3"
  },
  "language_info": {
   "codemirror_mode": {
    "name": "ipython",
    "version": 3
   },
   "file_extension": ".py",
   "mimetype": "text/x-python",
   "name": "python",
   "nbconvert_exporter": "python",
   "pygments_lexer": "ipython3",
   "version": "3.6.8"
  }
 },
 "nbformat": 4,
 "nbformat_minor": 1
}
